{
 "cells": [
  {
   "cell_type": "code",
   "execution_count": 1,
   "metadata": {},
   "outputs": [],
   "source": [
    "import argparse\n",
    "import os\n",
    "import time\n",
    "import random\n",
    "import requests\n",
    "import ctypes\n",
    "import platform\n"
   ]
  },
  {
   "cell_type": "code",
   "execution_count": 2,
   "metadata": {},
   "outputs": [],
   "source": [
    "#get walpaper\n",
    "def get_wallpaper():\n",
    "    #random number\n",
    "    num = random.randint(1,99)\n",
    "\n",
    "    #set your api key here \n",
    "    payload = {'Authorization': '563492ad6f9170000100000109cc3487bd024b1098f4c60deee2fc77'}\n",
    "\n",
    "    #set search query\n",
    "    query = 'flower'\n",
    "\n",
    "    #url for pexels\n",
    "    url = 'https://api.pexels.com/v1/search?per_page=1&page=' + str(num) + '&query' + query\n",
    "\n",
    "    #send request for the page\n",
    "    res = requests.get(url, headers=payload)\n",
    "\n",
    "    if res.status_code == 200:\n",
    "        img_url = res.json().get('photos')[0]['src']['original']\n",
    "\n",
    "        img = requests.get(img_url)\n",
    "\n",
    "        with open('temp.jpg', 'wb') as f:\n",
    "            f.write(img.content)\n",
    "\n",
    "    else:\n",
    "        print('error in making http request')"
   ]
  },
  {
   "cell_type": "code",
   "execution_count": 3,
   "metadata": {},
   "outputs": [],
   "source": [
    "def set_wallpaper():\n",
    "    get_wallpaper()\n",
    "    #check the operating system\n",
    "    system_name = platform.system().lower()\n",
    "    path = ''\n",
    "    if system_name == 'linux':\n",
    "        path = os.getcwd()+'/temp.jpg'\n",
    "        command = \"gsettings set org.gnome.desktop.background picture.uri file:\" + path\n",
    "        os.system(command)\n",
    "    elif system_name == 'windows':\n",
    "        path = os.getcwd() +'//temp.jpg'\n",
    "        ctypes.windll.user32.SystemParametersInfoW(20,0,path,0)\n"
   ]
  },
  {
   "cell_type": "code",
   "execution_count": 4,
   "metadata": {},
   "outputs": [
    {
     "name": "stderr",
     "output_type": "stream",
     "text": [
      "usage: ipykernel_launcher.py [-h] [-t TIME]\n",
      "ipykernel_launcher.py: error: unrecognized arguments: --ip=127.0.0.1 --stdin=9003 --control=9001 --hb=9000 --Session.signature_scheme=\"hmac-sha256\" --Session.key=b\"6f897f35-af9a-4ebc-84ad-ccf0737c9839\" --shell=9002 --transport=\"tcp\" --iopub=9004 --f=C:\\Users\\stray\\AppData\\Local\\Temp\\tmp-515207tpaePIDuWq.json\n"
     ]
    },
    {
     "ename": "SystemExit",
     "evalue": "2",
     "output_type": "error",
     "traceback": [
      "An exception has occurred, use %tb to see the full traceback.\n",
      "\u001b[1;31mSystemExit\u001b[0m\u001b[1;31m:\u001b[0m 2\n"
     ]
    },
    {
     "name": "stderr",
     "output_type": "stream",
     "text": [
      "C:\\Users\\stray\\AppData\\Roaming\\Python\\Python310\\site-packages\\IPython\\core\\interactiveshell.py:3259: UserWarning: To exit: use 'exit', 'quit', or Ctrl-D.\n",
      "  warn(\"To exit: use 'exit', 'quit', or Ctrl-D.\", stacklevel=1)\n"
     ]
    }
   ],
   "source": [
    "#function to change it every minute\n",
    "if __name__ == \"__main__\":\n",
    "\n",
    "    parser = argparse.ArgumentParser()\n",
    "    parser.add_argument(\"-t\", \"--time\", help=\"Enter time in minutes \")\n",
    "\n",
    "    args = parser.parse_args()\n",
    "    minute = int(args.time)\n",
    "    while(True):\n",
    "        time.sleep(minute*60)\n",
    "        set_wallpaper()"
   ]
  }
 ],
 "metadata": {
  "interpreter": {
   "hash": "2be5faf79681da6f2a61fdfdd5405d65d042280f7fba6178067603e3a2925119"
  },
  "kernelspec": {
   "display_name": "Python 3.10.2 64-bit",
   "language": "python",
   "name": "python3"
  },
  "language_info": {
   "codemirror_mode": {
    "name": "ipython",
    "version": 3
   },
   "file_extension": ".py",
   "mimetype": "text/x-python",
   "name": "python",
   "nbconvert_exporter": "python",
   "pygments_lexer": "ipython3",
   "version": "3.10.2"
  },
  "orig_nbformat": 4
 },
 "nbformat": 4,
 "nbformat_minor": 2
}
